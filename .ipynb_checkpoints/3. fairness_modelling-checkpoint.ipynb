{
 "cells": [
  {
   "cell_type": "code",
   "execution_count": 1,
   "metadata": {},
   "outputs": [],
   "source": [
    "import numpy as np\n",
    "import pandas as pd\n",
    "from sklearn.ensemble import RandomForestRegressor\n",
    "from sklearn.model_selection import RandomizedSearchCV, train_test_split"
   ]
  },
  {
   "cell_type": "markdown",
   "metadata": {},
   "source": [
    "# Import WoE dataset"
   ]
  },
  {
   "cell_type": "code",
   "execution_count": 2,
   "metadata": {},
   "outputs": [],
   "source": [
    "df = pd.read_csv(\"./data/woe_df.csv\")"
   ]
  },
  {
   "cell_type": "markdown",
   "metadata": {},
   "source": [
    "# Split dataset"
   ]
  },
  {
   "cell_type": "code",
   "execution_count": 3,
   "metadata": {},
   "outputs": [],
   "source": [
    "y = df[\"TARGET\"]\n",
    "X = df.drop([\"TARGET\"], axis=1)"
   ]
  },
  {
   "cell_type": "code",
   "execution_count": 4,
   "metadata": {},
   "outputs": [],
   "source": [
    "X_train, X_test, Y_train, Y_test = train_test_split(\n",
    "    X, y, random_state=123, stratify=y, test_size=0.3\n",
    ")"
   ]
  },
  {
   "cell_type": "markdown",
   "metadata": {},
   "source": [
    "# Random Forest"
   ]
  },
  {
   "cell_type": "code",
   "execution_count": 10,
   "metadata": {},
   "outputs": [
    {
     "name": "stdout",
     "output_type": "stream",
     "text": [
      "{'n_estimators': [600, 611, 622, 633, 644, 655, 666, 677, 688, 700], 'max_depth': [1, 2, 3, 4, 5, 6, 7, 8, 9, 10]}\n"
     ]
    }
   ],
   "source": [
    "max_depth = [int(x) for x in np.linspace(1, 10, num=10)]\n",
    "n_estimators = [int(x) for x in np.linspace(start=600, stop=700, num=10)]\n",
    "# Create the random grid\n",
    "random_grid = {\"n_estimators\": n_estimators, \"max_depth\": max_depth}\n",
    "\n",
    "print(random_grid)"
   ]
  },
  {
   "cell_type": "code",
   "execution_count": 11,
   "metadata": {},
   "outputs": [
    {
     "name": "stdout",
     "output_type": "stream",
     "text": [
      "Fitting 3 folds for each of 10 candidates, totalling 30 fits\n"
     ]
    },
    {
     "name": "stderr",
     "output_type": "stream",
     "text": [
      "c:\\Users\\FI40WR\\Anaconda3\\envs\\model_fairness\\lib\\site-packages\\sklearn\\model_selection\\_search.py:972: UserWarning: One or more of the test scores are non-finite: [nan nan nan nan nan nan nan nan nan nan]\n",
      "  category=UserWarning,\n"
     ]
    },
    {
     "data": {
      "text/plain": [
       "RandomizedSearchCV(cv=3, estimator=RandomForestRegressor(random_state=123),\n",
       "                   n_jobs=-1,\n",
       "                   param_distributions={'max_depth': [1, 2, 3, 4, 5, 6, 7, 8, 9,\n",
       "                                                      10],\n",
       "                                        'n_estimators': [600, 611, 622, 633,\n",
       "                                                         644, 655, 666, 677,\n",
       "                                                         688, 700]},\n",
       "                   random_state=123, scoring='accuracy', verbose=2)"
      ]
     },
     "execution_count": 11,
     "metadata": {},
     "output_type": "execute_result"
    }
   ],
   "source": [
    "# Use the random grid to search for best hyperparameters\n",
    "# First create the base model to tune\n",
    "rf = RandomForestRegressor(random_state=123)\n",
    "# Random search of parameters, using 3 fold cross validation,\n",
    "# search across 100 different combinations, and use all available cores\n",
    "rf_random = RandomizedSearchCV(\n",
    "    estimator=rf,\n",
    "    param_distributions=random_grid,\n",
    "    scoring=\"accuracy\",\n",
    "    cv=3,\n",
    "    verbose=2,\n",
    "    random_state=123,\n",
    "    n_jobs=-1,\n",
    ")\n",
    "\n",
    "# Fit the random search model\n",
    "rf_random.fit(X_train, Y_train)"
   ]
  },
  {
   "cell_type": "code",
   "execution_count": 12,
   "metadata": {},
   "outputs": [
    {
     "data": {
      "text/plain": [
       "{'n_estimators': 688, 'max_depth': 1}"
      ]
     },
     "execution_count": 12,
     "metadata": {},
     "output_type": "execute_result"
    }
   ],
   "source": [
    "rf_random.best_params_"
   ]
  },
  {
   "cell_type": "code",
   "execution_count": 13,
   "metadata": {},
   "outputs": [
    {
     "data": {
      "text/plain": [
       "{'mean_fit_time': array([ 94.16546122, 529.54444949, 589.47017217, 257.62261136,\n",
       "        479.26249321,  91.00634034,  99.46686538, 368.05287552,\n",
       "        394.96002007,  68.91786822]),\n",
       " 'std_fit_time': array([ 0.59810739, 10.94101483, 11.1619623 ,  5.8201296 , 17.88378126,\n",
       "         5.58721241,  1.27473886,  3.10476695, 38.46927719, 11.46439463]),\n",
       " 'mean_score_time': array([ 3.33639661, 12.98522822, 14.10733398,  7.10561601, 10.15225061,\n",
       "         3.77348073,  3.77138186,  7.18365097,  7.45250893,  3.37492657]),\n",
       " 'std_score_time': array([0.08277075, 1.31629274, 0.49137881, 0.5748234 , 1.20791991,\n",
       "        0.4358303 , 0.14465573, 0.47802711, 1.3186248 , 0.20427277]),\n",
       " 'param_n_estimators': masked_array(data=[688, 600, 622, 688, 633, 600, 655, 600, 611, 644],\n",
       "              mask=[False, False, False, False, False, False, False, False,\n",
       "                    False, False],\n",
       "        fill_value='?',\n",
       "             dtype=object),\n",
       " 'param_max_depth': masked_array(data=[1, 8, 9, 3, 7, 1, 1, 6, 9, 1],\n",
       "              mask=[False, False, False, False, False, False, False, False,\n",
       "                    False, False],\n",
       "        fill_value='?',\n",
       "             dtype=object),\n",
       " 'params': [{'n_estimators': 688, 'max_depth': 1},\n",
       "  {'n_estimators': 600, 'max_depth': 8},\n",
       "  {'n_estimators': 622, 'max_depth': 9},\n",
       "  {'n_estimators': 688, 'max_depth': 3},\n",
       "  {'n_estimators': 633, 'max_depth': 7},\n",
       "  {'n_estimators': 600, 'max_depth': 1},\n",
       "  {'n_estimators': 655, 'max_depth': 1},\n",
       "  {'n_estimators': 600, 'max_depth': 6},\n",
       "  {'n_estimators': 611, 'max_depth': 9},\n",
       "  {'n_estimators': 644, 'max_depth': 1}],\n",
       " 'split0_test_score': array([nan, nan, nan, nan, nan, nan, nan, nan, nan, nan]),\n",
       " 'split1_test_score': array([nan, nan, nan, nan, nan, nan, nan, nan, nan, nan]),\n",
       " 'split2_test_score': array([nan, nan, nan, nan, nan, nan, nan, nan, nan, nan]),\n",
       " 'mean_test_score': array([nan, nan, nan, nan, nan, nan, nan, nan, nan, nan]),\n",
       " 'std_test_score': array([nan, nan, nan, nan, nan, nan, nan, nan, nan, nan]),\n",
       " 'rank_test_score': array([ 1,  2,  3,  4,  5,  6,  7,  8,  9, 10])}"
      ]
     },
     "execution_count": 13,
     "metadata": {},
     "output_type": "execute_result"
    }
   ],
   "source": [
    "rf_random.cv_results_"
   ]
  },
  {
   "cell_type": "code",
   "execution_count": null,
   "metadata": {},
   "outputs": [],
   "source": []
  }
 ],
 "metadata": {
  "kernelspec": {
   "display_name": "Python 3 (ipykernel)",
   "language": "python",
   "name": "python3"
  },
  "language_info": {
   "codemirror_mode": {
    "name": "ipython",
    "version": 3
   },
   "file_extension": ".py",
   "mimetype": "text/x-python",
   "name": "python",
   "nbconvert_exporter": "python",
   "pygments_lexer": "ipython3",
   "version": "3.7.13"
  },
  "vscode": {
   "interpreter": {
    "hash": "ee62c2fdb76883335d74924cfe7f75400f2c905472c571420d6f37fdc27b8212"
   }
  }
 },
 "nbformat": 4,
 "nbformat_minor": 4
}

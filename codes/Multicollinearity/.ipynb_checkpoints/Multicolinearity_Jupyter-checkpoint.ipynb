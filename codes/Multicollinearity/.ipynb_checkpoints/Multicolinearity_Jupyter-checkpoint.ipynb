{
 "cells": [
  {
   "cell_type": "markdown",
   "metadata": {},
   "source": [
    "# Multicollinearity Issue: Jose Caloca"
   ]
  },
  {
   "cell_type": "markdown",
   "metadata": {},
   "source": [
    "For explaining the multicollinearity issue in graphical and intuitive way, we are going to use venn diagrams. \n",
    "\n",
    "First we will do an example based on the basic linear model with 1 explanatory variable, and then this basic model will be compared graphically when another correlated variable is added.  \n",
    "\n",
    "For this, we are interested in generating simulated correlated data "
   ]
  },
  {
   "cell_type": "markdown",
   "metadata": {},
   "source": [
    "# Basic Linear Regression Model: a graphical example"
   ]
  },
  {
   "cell_type": "markdown",
   "metadata": {},
   "source": [
    "The earliest example I found is [Cohen and Cohen (1975)](https://www.taylorfrancis.com/books/mono/10.4324/9780203774441/applied-multiple-regression-correlation-analysis-behavioral-sciences-jacob-cohen-patricia-cohen-stephen-west-leona-aiken), who proposed visualizing the shared variance between 2–3 variables using Venn diagrams.\n",
    "\n",
    "[ Hunt (1986)](https://link.springer.com/article/10.3758%2FBF03204399) however does the same but in a fancier way with some geometric equations to make them accurate.\n",
    "\n",
    "Lastly, [ Ip (2001)](https://doi.org/10.1080/10691898.2001.11910646) shows a bunch of different examples and highlights some of the limitations of using this approach"
   ]
  },
  {
   "cell_type": "markdown",
   "metadata": {},
   "source": [
    "## Data Simulation\n",
    "\n",
    "For this example we simulate correlated data in form of continuos variables using the Cholesky decomposition method. This method reduces a symmetric matrix into a lower-triangular matrix which when multiplied by it’s transpose produces the original symmetric matrix"
   ]
  },
  {
   "cell_type": "markdown",
   "metadata": {},
   "source": [
    "![cholesky](https://miro.medium.com/max/396/1*csrwPGJ1B9IpDaGM9BNong.png)"
   ]
  },
  {
   "cell_type": "markdown",
   "metadata": {},
   "source": [
    "First of all we import all the libraries so that we can work on the examples presented."
   ]
  },
  {
   "cell_type": "code",
   "execution_count": 1,
   "metadata": {},
   "outputs": [],
   "source": [
    "# Import libraries\n",
    "from matplotlib_venn import venn2, venn2_circles, venn2_unweighted\n",
    "from matplotlib_venn import venn3, venn3_circles\n",
    "from matplotlib import pyplot as plt\n",
    "import numpy as np\n",
    "import pandas as pd\n",
    "from scipy import stats\n",
    "import seaborn as sns\n",
    "import statsmodels.api as sm\n",
    "from statsmodels.formula.api import ols"
   ]
  },
  {
   "cell_type": "markdown",
   "metadata": {},
   "source": [
    "In the above picture we can see an example of the Cholesky matrix descomposition that using python, looks as follows:"
   ]
  },
  {
   "cell_type": "code",
   "execution_count": 2,
   "metadata": {},
   "outputs": [
    {
     "name": "stdout",
     "output_type": "stream",
     "text": [
      "Intial Matrix (A)\n",
      "[[36 30 18]\n",
      " [30 41 23]\n",
      " [18 23 14]]\n",
      "------------------\n",
      "Cholesky decomposition takes the form: A = L x L*\n",
      "lower triangular matrix L:\n",
      "[[6. 0. 0.]\n",
      " [5. 4. 0.]\n",
      " [3. 2. 1.]]\n",
      "------------------\n",
      "Conjugate transpose of L (AKA L*):\n",
      "[[6. 5. 3.]\n",
      " [0. 4. 2.]\n",
      " [0. 0. 1.]]\n",
      "------------------\n",
      "Multiplication of L x L* that produces matrix A\n",
      "[[36. 30. 18.]\n",
      " [30. 41. 23.]\n",
      " [18. 23. 14.]]\n"
     ]
    }
   ],
   "source": [
    "# define a 3x3 matrix\n",
    "A = np.array([[36, 30, 18], \n",
    "              [30, 41, 23], \n",
    "              [18, 23, 14]])\n",
    "\n",
    "print(\"Intial Matrix (A)\")\n",
    "print(A)\n",
    "print(\"------------------\")\n",
    "print(\"Cholesky decomposition takes the form: A = L x L*\")\n",
    "\n",
    "# Cholesky decomposition\n",
    "L = np.linalg.cholesky(A)\n",
    "print(\"lower triangular matrix L:\")\n",
    "print(L)\n",
    "print(\"------------------\")\n",
    "print(\"Conjugate transpose of L (AKA L*):\")\n",
    "print(L.T)\n",
    "# reconstruct\n",
    "B = L.dot(L.T)\n",
    "print(\"------------------\")\n",
    "print(\"Multiplication of L x L* that produces matrix A\")\n",
    "print(B)"
   ]
  },
  {
   "cell_type": "markdown",
   "metadata": {},
   "source": [
    "Now we simulate our data for our example. For this, we find the Cholesky decomposition of the covariance matrix which in this case, the values of the covariance matrix are the same of the desired correlation matrix. Once calculated, we multiply the Cholesky decomposition by the matrix of uncorrelated random variables to create correlated variables"
   ]
  },
  {
   "cell_type": "code",
   "execution_count": 3,
   "metadata": {},
   "outputs": [
    {
     "name": "stdout",
     "output_type": "stream",
     "text": [
      "Desired correlation matrix:\n",
      "     0    1    2\n",
      "0  1.0  0.8  0.5\n",
      "1  0.8  1.0  0.3\n",
      "2  0.5  0.3  1.0\n",
      "Final correlation matrix from simulated data\n"
     ]
    },
    {
     "data": {
      "text/html": [
       "<div>\n",
       "<style scoped>\n",
       "    .dataframe tbody tr th:only-of-type {\n",
       "        vertical-align: middle;\n",
       "    }\n",
       "\n",
       "    .dataframe tbody tr th {\n",
       "        vertical-align: top;\n",
       "    }\n",
       "\n",
       "    .dataframe thead th {\n",
       "        text-align: right;\n",
       "    }\n",
       "</style>\n",
       "<table border=\"1\" class=\"dataframe\">\n",
       "  <thead>\n",
       "    <tr style=\"text-align: right;\">\n",
       "      <th></th>\n",
       "      <th>Y</th>\n",
       "      <th>X1</th>\n",
       "      <th>X2</th>\n",
       "    </tr>\n",
       "  </thead>\n",
       "  <tbody>\n",
       "    <tr>\n",
       "      <th>Y</th>\n",
       "      <td>1.0</td>\n",
       "      <td>0.80</td>\n",
       "      <td>0.50</td>\n",
       "    </tr>\n",
       "    <tr>\n",
       "      <th>X1</th>\n",
       "      <td>0.8</td>\n",
       "      <td>1.00</td>\n",
       "      <td>0.28</td>\n",
       "    </tr>\n",
       "    <tr>\n",
       "      <th>X2</th>\n",
       "      <td>0.5</td>\n",
       "      <td>0.28</td>\n",
       "      <td>1.00</td>\n",
       "    </tr>\n",
       "  </tbody>\n",
       "</table>\n",
       "</div>"
      ],
      "text/plain": [
       "      Y    X1    X2\n",
       "Y   1.0  0.80  0.50\n",
       "X1  0.8  1.00  0.28\n",
       "X2  0.5  0.28  1.00"
      ]
     },
     "execution_count": 3,
     "metadata": {},
     "output_type": "execute_result"
    }
   ],
   "source": [
    "# set seed\n",
    "np.random.seed(123)\n",
    "\n",
    "# simulate correlated data using the Cholesky matrix decomposition\n",
    "\n",
    "num_samples = 10000\n",
    "\n",
    "# Desired number of variables \n",
    "num_variables = 3\n",
    "\n",
    "# The desired mean values of the sample.\n",
    "mu = np.array([10, 9, 9])\n",
    "\n",
    "# The desired correlation matrix.\n",
    "r = np.array([[1, .8, .5],\n",
    "               [.8, 1, .3],\n",
    "               [.5, .3, 1]])\n",
    "\n",
    "print(\"Desired correlation matrix:\")\n",
    "print(pd.DataFrame(r))\n",
    "\n",
    "# We find the Cholesky decomposition of the covariance matrix, and multiply that by the matrix of uncorrelated random variables to create correlated variables..\n",
    "\n",
    "linalg = np.linalg\n",
    "L = linalg.cholesky(r)\n",
    "\n",
    "uncorrelated = np.random.standard_normal((num_variables, num_samples))\n",
    "\n",
    "correlated = np.dot(L, uncorrelated) + np.array(mu).reshape(3, 1)\n",
    "\n",
    "# We create a dataframe with correlated data.\n",
    "\n",
    "data = pd.DataFrame(correlated).T\n",
    "\n",
    "data.columns = ['Y', 'X1', 'X2']\n",
    "\n",
    "# We check the correlation matrix of the dataframe which is very similar to the desired one above.\n",
    "\n",
    "print(\"Final correlation matrix from simulated data\")\n",
    "data.corr().round(2) "
   ]
  },
  {
   "cell_type": "code",
   "execution_count": 4,
   "metadata": {},
   "outputs": [
    {
     "data": {
      "text/plain": [
       "<seaborn.axisgrid.PairGrid at 0x23930a6a850>"
      ]
     },
     "execution_count": 4,
     "metadata": {},
     "output_type": "execute_result"
    },
    {
     "data": {
      "image/png": "[encoded data removed]",
      "text/plain": [
       "<Figure size 540x540 with 12 Axes>"
      ]
     },
     "metadata": {
      "needs_background": "light"
     },
     "output_type": "display_data"
    }
   ],
   "source": [
    "sns.pairplot(data, kind=\"reg\", palette = sns.color_palette(\"icefire\", as_cmap=True))"
   ]
  },
  {
   "cell_type": "markdown",
   "metadata": {},
   "source": [
    "Now we have the following dataset with correlated variables:"
   ]
  },
  {
   "cell_type": "code",
   "execution_count": 5,
   "metadata": {},
   "outputs": [
    {
     "data": {
      "text/html": [
       "<div>\n",
       "<style scoped>\n",
       "    .dataframe tbody tr th:only-of-type {\n",
       "        vertical-align: middle;\n",
       "    }\n",
       "\n",
       "    .dataframe tbody tr th {\n",
       "        vertical-align: top;\n",
       "    }\n",
       "\n",
       "    .dataframe thead th {\n",
       "        text-align: right;\n",
       "    }\n",
       "</style>\n",
       "<table border=\"1\" class=\"dataframe\">\n",
       "  <thead>\n",
       "    <tr style=\"text-align: right;\">\n",
       "      <th></th>\n",
       "      <th>Y</th>\n",
       "      <th>X1</th>\n",
       "      <th>X2</th>\n",
       "    </tr>\n",
       "  </thead>\n",
       "  <tbody>\n",
       "    <tr>\n",
       "      <th>0</th>\n",
       "      <td>8.914369</td>\n",
       "      <td>7.386914</td>\n",
       "      <td>9.540699</td>\n",
       "    </tr>\n",
       "    <tr>\n",
       "      <th>1</th>\n",
       "      <td>10.997345</td>\n",
       "      <td>9.610108</td>\n",
       "      <td>10.682766</td>\n",
       "    </tr>\n",
       "    <tr>\n",
       "      <th>2</th>\n",
       "      <td>10.282978</td>\n",
       "      <td>8.717015</td>\n",
       "      <td>9.364432</td>\n",
       "    </tr>\n",
       "    <tr>\n",
       "      <th>3</th>\n",
       "      <td>8.493705</td>\n",
       "      <td>9.221736</td>\n",
       "      <td>8.630311</td>\n",
       "    </tr>\n",
       "    <tr>\n",
       "      <th>4</th>\n",
       "      <td>9.421400</td>\n",
       "      <td>8.931620</td>\n",
       "      <td>6.894046</td>\n",
       "    </tr>\n",
       "    <tr>\n",
       "      <th>5</th>\n",
       "      <td>11.651437</td>\n",
       "      <td>10.449001</td>\n",
       "      <td>9.220025</td>\n",
       "    </tr>\n",
       "    <tr>\n",
       "      <th>6</th>\n",
       "      <td>7.573321</td>\n",
       "      <td>6.764074</td>\n",
       "      <td>9.133948</td>\n",
       "    </tr>\n",
       "    <tr>\n",
       "      <th>7</th>\n",
       "      <td>9.571087</td>\n",
       "      <td>8.007964</td>\n",
       "      <td>8.831282</td>\n",
       "    </tr>\n",
       "    <tr>\n",
       "      <th>8</th>\n",
       "      <td>11.265936</td>\n",
       "      <td>10.015630</td>\n",
       "      <td>9.936395</td>\n",
       "    </tr>\n",
       "    <tr>\n",
       "      <th>9</th>\n",
       "      <td>9.133260</td>\n",
       "      <td>8.090130</td>\n",
       "      <td>8.821305</td>\n",
       "    </tr>\n",
       "  </tbody>\n",
       "</table>\n",
       "</div>"
      ],
      "text/plain": [
       "           Y         X1         X2\n",
       "0   8.914369   7.386914   9.540699\n",
       "1  10.997345   9.610108  10.682766\n",
       "2  10.282978   8.717015   9.364432\n",
       "3   8.493705   9.221736   8.630311\n",
       "4   9.421400   8.931620   6.894046\n",
       "5  11.651437  10.449001   9.220025\n",
       "6   7.573321   6.764074   9.133948\n",
       "7   9.571087   8.007964   8.831282\n",
       "8  11.265936  10.015630   9.936395\n",
       "9   9.133260   8.090130   8.821305"
      ]
     },
     "execution_count": 5,
     "metadata": {},
     "output_type": "execute_result"
    }
   ],
   "source": [
    "data.head(10)"
   ]
  },
  {
   "cell_type": "code",
   "execution_count": 6,
   "metadata": {},
   "outputs": [
    {
     "data": {
      "text/html": [
       "<div>\n",
       "<style scoped>\n",
       "    .dataframe tbody tr th:only-of-type {\n",
       "        vertical-align: middle;\n",
       "    }\n",
       "\n",
       "    .dataframe tbody tr th {\n",
       "        vertical-align: top;\n",
       "    }\n",
       "\n",
       "    .dataframe thead th {\n",
       "        text-align: right;\n",
       "    }\n",
       "</style>\n",
       "<table border=\"1\" class=\"dataframe\">\n",
       "  <thead>\n",
       "    <tr style=\"text-align: right;\">\n",
       "      <th></th>\n",
       "      <th>Y</th>\n",
       "      <th>X1</th>\n",
       "      <th>X2</th>\n",
       "    </tr>\n",
       "  </thead>\n",
       "  <tbody>\n",
       "    <tr>\n",
       "      <th>count</th>\n",
       "      <td>10000.000000</td>\n",
       "      <td>10000.000000</td>\n",
       "      <td>10000.000000</td>\n",
       "    </tr>\n",
       "    <tr>\n",
       "      <th>mean</th>\n",
       "      <td>10.009712</td>\n",
       "      <td>9.013995</td>\n",
       "      <td>9.002930</td>\n",
       "    </tr>\n",
       "    <tr>\n",
       "      <th>std</th>\n",
       "      <td>0.998164</td>\n",
       "      <td>1.002388</td>\n",
       "      <td>0.996124</td>\n",
       "    </tr>\n",
       "    <tr>\n",
       "      <th>min</th>\n",
       "      <td>6.198622</td>\n",
       "      <td>5.793856</td>\n",
       "      <td>5.041916</td>\n",
       "    </tr>\n",
       "    <tr>\n",
       "      <th>25%</th>\n",
       "      <td>9.330154</td>\n",
       "      <td>8.330309</td>\n",
       "      <td>8.347290</td>\n",
       "    </tr>\n",
       "    <tr>\n",
       "      <th>50%</th>\n",
       "      <td>10.011846</td>\n",
       "      <td>9.008629</td>\n",
       "      <td>9.009639</td>\n",
       "    </tr>\n",
       "    <tr>\n",
       "      <th>75%</th>\n",
       "      <td>10.686122</td>\n",
       "      <td>9.703213</td>\n",
       "      <td>9.652050</td>\n",
       "    </tr>\n",
       "    <tr>\n",
       "      <th>max</th>\n",
       "      <td>14.068097</td>\n",
       "      <td>12.571978</td>\n",
       "      <td>12.575859</td>\n",
       "    </tr>\n",
       "  </tbody>\n",
       "</table>\n",
       "</div>"
      ],
      "text/plain": [
       "                  Y            X1            X2\n",
       "count  10000.000000  10000.000000  10000.000000\n",
       "mean      10.009712      9.013995      9.002930\n",
       "std        0.998164      1.002388      0.996124\n",
       "min        6.198622      5.793856      5.041916\n",
       "25%        9.330154      8.330309      8.347290\n",
       "50%       10.011846      9.008629      9.009639\n",
       "75%       10.686122      9.703213      9.652050\n",
       "max       14.068097     12.571978     12.575859"
      ]
     },
     "execution_count": 6,
     "metadata": {},
     "output_type": "execute_result"
    }
   ],
   "source": [
    "data.describe()"
   ]
  },
  {
   "cell_type": "markdown",
   "metadata": {},
   "source": [
    "In the following regression diagrams, each variable is shown as a circle sized according to its variance, or:\n",
    "\n",
    "$$\\operatorname{var} = \\sigma^2 = \\frac{\\sum (\\color{gray}{\\overbrace{\\color{black}{x_i}}^{\\substack{\\text{Single} \\ \\text{value}}}} - \\color{gray}{\\overbrace{\\color{black}{\\bar{x}}}^{\\substack{\\text{Mean of} \\ \\text{all values}}}\\color{black}{)^2}}}{\\color{gray}{\\underbrace{\\color{black}{n}}_{\\substack{\\text{Sample} \\ \\text{size}}}}-1}$$"
   ]
  },
  {
   "cell_type": "markdown",
   "metadata": {},
   "source": [
    "According to Ip (2001), you can also size the circles based on just the numerator of that equation, or the sum-of-squares:\n",
    "\n",
    "$$\\color{gray}{\\overbrace{\\color{black}{{\\scriptstyle\\sum} (x_i - \\bar{x})^2}}^{\\text{Sum of squares}}}$$\n",
    "\n",
    "For this we create the following function that calculates the sum of squares:"
   ]
  },
  {
   "cell_type": "code",
   "execution_count": 7,
   "metadata": {},
   "outputs": [],
   "source": [
    "def sum_squares(x):\n",
    "    ss = sum((x - np.mean(x))**2)\n",
    "    return ss\n",
    "    print(ss)"
   ]
  },
  {
   "cell_type": "markdown",
   "metadata": {},
   "source": [
    "## Relationship between 2 variables (Simple Regression Example)"
   ]
  },
  {
   "cell_type": "markdown",
   "metadata": {},
   "source": [
    "Now we look at the relationship between Y and X1. We’ll use the sum of squares to calculate the size for each circle"
   ]
  },
  {
   "cell_type": "code",
   "execution_count": 8,
   "metadata": {},
   "outputs": [
    {
     "data": {
      "text/plain": [
       "<matplotlib_venn._common.VennDiagram at 0x239320ce4f0>"
      ]
     },
     "execution_count": 8,
     "metadata": {},
     "output_type": "execute_result"
    },
    {
     "data": {
      "image/png": "[encoded data removed]",
      "text/plain": [
       "<Figure size 432x288 with 1 Axes>"
      ]
     },
     "metadata": {},
     "output_type": "display_data"
    }
   ],
   "source": [
    "sum_squares_y = round(sum_squares(data.Y), 2)\n",
    "sum_squares_x1 = round(sum_squares(data.X1), 2)\n",
    "\n",
    "venn2(subsets=(sum_squares_y,sum_squares_x1,0), set_labels = ('Y', 'X1'))"
   ]
  },
  {
   "cell_type": "markdown",
   "metadata": {},
   "source": [
    "Just looking at this plot, we can see that Y has less variation than X1.\n",
    "\n",
    "These two variables are related to each other though and have some covariance. We can calculate the shared covariance using ANOVA. The nice thing about using the sum of squares values for these diagrams rather than variance values is that the function anova_lm from python reports its results as sums of squares, so we can use those results directly.\n",
    "\n",
    "Let’s see how much of the variation between Y and X1 is shared:"
   ]
  },
  {
   "cell_type": "code",
   "execution_count": 9,
   "metadata": {},
   "outputs": [
    {
     "data": {
      "text/html": [
       "<div>\n",
       "<style scoped>\n",
       "    .dataframe tbody tr th:only-of-type {\n",
       "        vertical-align: middle;\n",
       "    }\n",
       "\n",
       "    .dataframe tbody tr th {\n",
       "        vertical-align: top;\n",
       "    }\n",
       "\n",
       "    .dataframe thead th {\n",
       "        text-align: right;\n",
       "    }\n",
       "</style>\n",
       "<table border=\"1\" class=\"dataframe\">\n",
       "  <thead>\n",
       "    <tr style=\"text-align: right;\">\n",
       "      <th></th>\n",
       "      <th>sum_sq</th>\n",
       "      <th>df</th>\n",
       "      <th>F</th>\n",
       "      <th>PR(&gt;F)</th>\n",
       "    </tr>\n",
       "  </thead>\n",
       "  <tbody>\n",
       "    <tr>\n",
       "      <th>X1</th>\n",
       "      <td>6374.423827</td>\n",
       "      <td>1.0</td>\n",
       "      <td>17762.94982</td>\n",
       "      <td>0.0</td>\n",
       "    </tr>\n",
       "    <tr>\n",
       "      <th>Residual</th>\n",
       "      <td>3587.888840</td>\n",
       "      <td>9998.0</td>\n",
       "      <td>NaN</td>\n",
       "      <td>NaN</td>\n",
       "    </tr>\n",
       "  </tbody>\n",
       "</table>\n",
       "</div>"
      ],
      "text/plain": [
       "               sum_sq      df            F  PR(>F)\n",
       "X1        6374.423827     1.0  17762.94982     0.0\n",
       "Residual  3587.888840  9998.0          NaN     NaN"
      ]
     },
     "execution_count": 9,
     "metadata": {},
     "output_type": "execute_result"
    }
   ],
   "source": [
    "model = ols('Y ~ X1', data).fit()\n",
    "aov_table = sm.stats.anova_lm(model, typ=2)\n",
    "aov_table"
   ]
  },
  {
   "cell_type": "markdown",
   "metadata": {},
   "source": [
    "If we look at the sum of squares row, we can see that 6374.42 sum of squares units (whatever those mean) are shared between the two variables, with 3587.88 not shared (or residual). \n",
    "\n",
    "For visualising the shared space (variation) between both variables we need to subtract the shared space from both Y and X1 as follows:"
   ]
  },
  {
   "cell_type": "code",
   "execution_count": 10,
   "metadata": {},
   "outputs": [
    {
     "data": {
      "text/plain": [
       "<matplotlib_venn._common.VennDiagram at 0x23931fde670>"
      ]
     },
     "execution_count": 10,
     "metadata": {},
     "output_type": "execute_result"
    },
    {
     "data": {
      "image/png": "[encoded data removed]",
      "text/plain": [
       "<Figure size 432x288 with 1 Axes>"
      ]
     },
     "metadata": {},
     "output_type": "display_data"
    }
   ],
   "source": [
    "# Now we can visualize the covariance between these two variables.\n",
    "\n",
    "sum_squares_both_y_x1 = round(aov_table.sum_sq[0], 2)\n",
    "\n",
    "y = round(sum_squares_y - sum_squares_both_y_x1, 2)\n",
    "x1 = round(sum_squares_x1 - sum_squares_both_y_x1, 2)\n",
    "y_x1 = round(sum_squares_both_y_x1, 2)\n",
    "\n",
    "venn2(subsets=(y,x1,y_x1), set_labels = ('Y', 'X1', 'Y_X1'))"
   ]
  },
  {
   "cell_type": "markdown",
   "metadata": {},
   "source": [
    "This venn diagram helps us to visualise the covariance between these two variables.\n",
    "\n",
    "Area C here represents the amount of variation in Y explained by X1, while Area A represents the unexplained portion of Y. In regression language, A is basically the error term:\n",
    "\n",
    "$$\\hat{Y} = \\beta_0 + \\beta_1 X_1 + \\color{gray}{\\overbrace{\\epsilon}^{\\color{black}{\\text{A}}}}$$\n",
    "\n",
    "The great thing about visualizing this is that C also represents the $R^2$ In general, $R^2$ is the ratio between explained and total variance:\n",
    "\n",
    "$$R^2 = \\frac{\\text{Explained variance in }Y}{\\text{Total variance in }Y}$$\n",
    "\n",
    "Based on this diagram, we can write this as:\n",
    "\n",
    "$$R^2 = \\frac{C}{A + C}$$\n",
    "\n",
    "Using actual numbers, we get:\n",
    "\n",
    "$$R^2 = \\frac{6374.42}{3587.88 + 6374.42} = 0.639$$\n",
    "\n",
    "According to this, X1 explains 64% of the variation in Y. That’s apparent visually—the overlapping space covers about 64% of the total Y circle.\n",
    "\n",
    "We calculate this as follows:"
   ]
  },
  {
   "cell_type": "code",
   "execution_count": 11,
   "metadata": {},
   "outputs": [
    {
     "data": {
      "text/plain": [
       "0.6398536082494923"
      ]
     },
     "execution_count": 11,
     "metadata": {},
     "output_type": "execute_result"
    }
   ],
   "source": [
    "# We can however calculate R2 from the areas presented\n",
    "r_squared = y_x1 / (y + y_x1)\n",
    "r_squared"
   ]
  },
  {
   "cell_type": "markdown",
   "metadata": {},
   "source": [
    "When running the regression model we check the information by extracting this value from the basic linear regression model used when running the ANOVA."
   ]
  },
  {
   "cell_type": "code",
   "execution_count": 12,
   "metadata": {},
   "outputs": [
    {
     "data": {
      "text/plain": [
       "0.6398538211050541"
      ]
     },
     "execution_count": 12,
     "metadata": {},
     "output_type": "execute_result"
    }
   ],
   "source": [
    "# We confirm the results of R2 as follows:\n",
    "model.rsquared"
   ]
  },
  {
   "cell_type": "markdown",
   "metadata": {},
   "source": [
    "## Relationship between three variables\n",
    "\n",
    "Now we look at the overlapping space between three different variables. It’s also a little more complicated, since we need to calculate a bunch of different shared variances and do some set theory calculations to find the exact size.\n",
    "\n",
    "For example the following diagram which is exposed for illustration issues:"
   ]
  },
  {
   "cell_type": "code",
   "execution_count": 13,
   "metadata": {},
   "outputs": [
    {
     "data": {
      "image/png": "[encoded data removed]",
      "text/plain": [
       "<Figure size 360x360 with 1 Axes>"
      ]
     },
     "metadata": {},
     "output_type": "display_data"
    }
   ],
   "source": [
    "plt.figure(figsize=(5, 5))\n",
    "v = venn3(subsets=(4,4,2,4,2,2,2), set_labels = ('Y', 'X1', 'X2'))\n",
    "\n",
    "v.get_label_by_id('100').set_text('A')\n",
    "v.get_label_by_id('010').set_text('B')\n",
    "v.get_label_by_id('001').set_text('C')\n",
    "v.get_label_by_id('110').set_text('D')\n",
    "v.get_label_by_id('011').set_text('E')\n",
    "v.get_label_by_id('101').set_text('F')\n",
    "v.get_label_by_id('111').set_text('G')"
   ]
  },
  {
   "cell_type": "markdown",
   "metadata": {},
   "source": [
    "Here the same principles apply. The entire circles for Y, X1, and X2 represent each variable’s total variance. Overlapping areas represent shared variance. For instance, the combination of D and G here (or $A \\cap B$) is the covariance that we calculated previously\n",
    "\n",
    "That means we can calculate $R^2$ like this:\n",
    "\n",
    "$$R^2 = \\frac{D + G + F}{A + D + G + F}$$\n",
    "\n",
    "This visualization also helps with the intuition of $R^2$. Generally when you add additional variables to a regression model, the $R^2$ increases. That’s because you’re adding another circle to the diagram and absorbing more of the variation in the outcome.\n",
    "\n",
    "For instance, even though the numbers in this diagram aren’t to scale at all, you can see that (D + G) (the $R^2$ that we calculated in the two-variable diagram) is smaller than (D + E + G). There’s more explained variance here.\n",
    "\n",
    "The following table helps us to understand the meaning of each segment:"
   ]
  },
  {
   "cell_type": "markdown",
   "metadata": {},
   "source": [
    "| Segment       | Explanation                                               |\n",
    "|---------------|-----------------------------------------------------------|\n",
    "| A + D + E + G | Total variation in Y                                      |\n",
    "| B + D + F + G | Total variation in X1                                     |\n",
    "| C + E + F + G | Total variation in X2                                     |\n",
    "| A             | Unexplained variation in Y after accounting for X1 and X2 |\n",
    "| B             | Unexplained variation in X1 after accounting for Y and X2 |\n",
    "| C             | Unexplained variation in X2 after accounting for Y and X1 |\n",
    "| D + G         | Variance shared by Y and X1                               |\n",
    "| E + G         | Variance shared by Y and X2                               |\n",
    "| D + G         | Variance shared by X1 and X2                              |\n",
    "| D             | Variance only between Y and X1, without influence from X2 |\n",
    "| E             | Variance only between Y and X2, without influence from X1 |\n",
    "| F             | Variance only between X1 and X2, without influence from Y |\n",
    "| G             | Variance shared by Y, X1,   and X2                        |\n",
    "\n",
    "Now we calculate all the segments of the table:"
   ]
  },
  {
   "cell_type": "code",
   "execution_count": 14,
   "metadata": {},
   "outputs": [],
   "source": [
    "#Calculation of areas: \n",
    "\n",
    "y_total = round(sum_squares(data.Y))    # A + D + F + G\n",
    "x1_total = round(sum_squares(data.X1))  # B + D + E + G\n",
    "x2_total = round(sum_squares(data.X2))  # C + E + F + G\n",
    "\n",
    "\n",
    "# A\n",
    "\n",
    "model = ols('Y ~ X2 + X1', data).fit()\n",
    "aov_table = sm.stats.anova_lm(model, typ=2)\n",
    "y_alone = round(aov_table.sum_sq[2], 2)\n",
    "\n",
    "# B\n",
    "\n",
    "model = ols('X1 ~ Y + X2', data).fit()\n",
    "aov_table = sm.stats.anova_lm(model, typ=2)\n",
    "x1_alone = round(aov_table.sum_sq[2], 2)\n",
    "\n",
    "# C\n",
    "\n",
    "model = ols('X2 ~ Y + X1', data).fit()\n",
    "aov_table = sm.stats.anova_lm(model, typ=2)\n",
    "x2_alone = round(aov_table.sum_sq[2], 2)\n",
    "\n",
    "# D + G\n",
    "\n",
    "model = ols('Y ~ X1', data).fit()\n",
    "aov_table = sm.stats.anova_lm(model, typ=2)\n",
    "y_plus_x1 = round(aov_table.sum_sq[0], 2)\n",
    "\n",
    "# F + G\n",
    "\n",
    "model = ols('Y ~ X2', data).fit()\n",
    "aov_table = sm.stats.anova_lm(model, typ=2)\n",
    "y_plus_x2 = round(aov_table.sum_sq[0], 2)\n",
    "\n",
    "# E + G\n",
    "\n",
    "model = ols('X1 ~ X2', data).fit()\n",
    "aov_table = sm.stats.anova_lm(model, typ=2)\n",
    "x1_plus_x2 = round(aov_table.sum_sq[0], 2)\n",
    "\n",
    "# D = (A + D + F + G) − A − (F + G)\n",
    "\n",
    "y_x1_alone = round(y_total - y_alone - y_plus_x2)\n",
    "\n",
    "# E = (B + D + E + G) − B − (D + G)\n",
    "\n",
    "y_x2_alone = round(y_total - y_alone - y_plus_x1)\n",
    "\n",
    "# G = (D + G) − D\n",
    "\n",
    "y_x1_x2_alone = round(y_plus_x1 - y_x1_alone)\n",
    "\n",
    "# F = (F + G) - G\n",
    "\n",
    "x1_x2_alone =  round(y_plus_x2 - y_x1_x2_alone, 2)"
   ]
  },
  {
   "cell_type": "markdown",
   "metadata": {},
   "source": [
    "Based on the calculated areas (segments) we can plot them in a diagram:"
   ]
  },
  {
   "cell_type": "code",
   "execution_count": 15,
   "metadata": {},
   "outputs": [
    {
     "data": {
      "image/png": "[encoded data removed]",
      "text/plain": [
       "<Figure size 360x360 with 1 Axes>"
      ]
     },
     "metadata": {},
     "output_type": "display_data"
    }
   ],
   "source": [
    "plt.figure(figsize=(5, 5))\n",
    "v = venn3(subsets=(y_alone, x1_alone, y_x1_alone, x2_alone, y_x2_alone, x1_x2_alone, y_x1_x2_alone))"
   ]
  },
  {
   "cell_type": "markdown",
   "metadata": {},
   "source": [
    "Once again we calculate the $R^2$ \n",
    "\n",
    "$$R^2 = \\frac{D + G + F}{A + D + G + F} = \\frac{4707 + 1667 + 789.5}{2798.05+4707 + 1667 + 789.5} = 0.72$$"
   ]
  },
  {
   "cell_type": "code",
   "execution_count": 16,
   "metadata": {},
   "outputs": [
    {
     "data": {
      "text/plain": [
       "0.72"
      ]
     },
     "execution_count": 16,
     "metadata": {},
     "output_type": "execute_result"
    }
   ],
   "source": [
    "# R2 = D + G + F / A + D + G + F\n",
    "r_squared = (y_x1_alone + y_x1_x2_alone + x1_x2_alone)/(y_alone + y_x1_alone + y_x1_x2_alone + x1_x2_alone)\n",
    "\n",
    "round(r_squared,2)"
   ]
  },
  {
   "cell_type": "markdown",
   "metadata": {},
   "source": [
    "This information is confirmed with the regression model:"
   ]
  },
  {
   "cell_type": "code",
   "execution_count": 17,
   "metadata": {},
   "outputs": [
    {
     "data": {
      "text/plain": [
       "0.72"
      ]
     },
     "execution_count": 17,
     "metadata": {},
     "output_type": "execute_result"
    }
   ],
   "source": [
    "model = ols('Y ~ X1 + X2', data).fit()\n",
    "round(model.rsquared,2)"
   ]
  },
  {
   "cell_type": "markdown",
   "metadata": {},
   "source": [
    "## Multicollinearity Issue\n",
    "\n",
    "Another neat feature of this kind of diagram is that it helps visualize multicollinearity, or the issues that arise when you control for explanatory variables that explain the same kind of variation in the outcome. Multicollinearity leads to strange coefficient estimates and variance inflation because mathematically the regression model has no way of telling which of the highly correlated explanatory variables explain which parts of the outcome."
   ]
  },
  {
   "cell_type": "code",
   "execution_count": 20,
   "metadata": {},
   "outputs": [
    {
     "data": {
      "image/png": "[encoded data removed]",
      "text/plain": [
       "<Figure size 360x360 with 1 Axes>"
      ]
     },
     "metadata": {},
     "output_type": "display_data"
    }
   ],
   "source": [
    "plt.figure(figsize=(5, 5))\n",
    "v = venn3(subsets=(y_alone, x1_alone, y_x1_alone, x2_alone, y_x2_alone, x1_x2_alone, y_x1_x2_alone))\n",
    "\n",
    "v.get_label_by_id('100').set_text('A')\n",
    "v.get_patch_by_id('100').set_facecolor('White')\n",
    "v.get_patch_by_id('100').set_edgecolor('Black')\n",
    "v.get_patch_by_id('100').set_linestyle('-')\n",
    "v.get_patch_by_id('100').set_linewidth(2)\n",
    "\n",
    "v.get_label_by_id('010').set_text('B')\n",
    "v.get_patch_by_id('010').set_facecolor('White')\n",
    "v.get_patch_by_id('010').set_edgecolor('Black')\n",
    "v.get_patch_by_id('010').set_linestyle('-')\n",
    "v.get_patch_by_id('010').set_linewidth(2)\n",
    "\n",
    "v.get_label_by_id('001').set_text('C')\n",
    "v.get_patch_by_id('001').set_facecolor('White')\n",
    "v.get_patch_by_id('001').set_edgecolor('Black')\n",
    "v.get_patch_by_id('001').set_linestyle('-')\n",
    "v.get_patch_by_id('001').set_linewidth(2)\n",
    "\n",
    "v.get_label_by_id('110').set_text('D')\n",
    "v.get_patch_by_id('110').set_facecolor('White')\n",
    "v.get_patch_by_id('110').set_edgecolor('Black')\n",
    "v.get_patch_by_id('110').set_linestyle('-')\n",
    "v.get_patch_by_id('110').set_linewidth(2)\n",
    "\n",
    "v.get_label_by_id('011').set_text('E')\n",
    "v.get_patch_by_id('011').set_facecolor('Red')\n",
    "v.get_patch_by_id('011').set_edgecolor('Black')\n",
    "v.get_patch_by_id('011').set_linestyle('-')\n",
    "v.get_patch_by_id('011').set_hatch('/') \n",
    "v.get_patch_by_id('011').set_linewidth(2)\n",
    "\n",
    "v.get_label_by_id('101').set_text('F')\n",
    "v.get_patch_by_id('101').set_facecolor('White')\n",
    "v.get_patch_by_id('101').set_edgecolor('Black')\n",
    "v.get_patch_by_id('101').set_linestyle('-')\n",
    "v.get_patch_by_id('101').set_linewidth(2)\n",
    "\n",
    "v.get_label_by_id('111').set_text('G')\n",
    "v.get_patch_by_id('111').set_facecolor('Red')\n",
    "v.get_patch_by_id('111').set_edgecolor('Black')\n",
    "v.get_patch_by_id('111').set_linestyle('-')\n",
    "v.get_patch_by_id('111').set_hatch('/') \n",
    "v.get_patch_by_id('111').set_linewidth(2)\n"
   ]
  },
  {
   "cell_type": "markdown",
   "metadata": {},
   "source": [
    "Here the aim is to predict A in terms of B and C. Y ~ X1 + X2\n",
    "\n",
    "In the diagram, areas D and F are uniquely accounted for by X1 and X2 respectively, but G is is overlapped, making it impossible to know if X1 or X2 explains that portion of the variation in Y. Similarly, area E shows the variation shared by both X1 and X2, and again it’s impossible to know which parts are unique. As a result, the area (G + E) represents the total multicollinearity in the model:"
   ]
  },
  {
   "cell_type": "markdown",
   "metadata": {},
   "source": [
    "## Experiment on regression coefficient under multicollinearity \n",
    "\n",
    "We repeat the same simulation for correlated data using the cholesky decomposition method. We create a for loop that iterates for different values i regarding the correlation coefficient in the correlation matrix (r).\n",
    "\n",
    "The different correlation values are for beta 1 and beta 2, from 0 to 93% of correlation."
   ]
  },
  {
   "cell_type": "code",
   "execution_count": 238,
   "metadata": {},
   "outputs": [],
   "source": [
    "numbers  = [float(x)/100 for x in range(92)]\n",
    "\n",
    "parameters = []\n",
    "variance = []\n",
    "t_values = []\n",
    "\n",
    "for i in numbers:\n",
    "    np.random.seed(123)\n",
    "    num_samples = 100\n",
    "    num_variables = 4\n",
    "    mu = np.array([0, 0, 0, 0])\n",
    "    # correlation matrix indicating same correlation between beta 1 and beta 2\n",
    "    # y = x1 + x2 + e\n",
    "    #                y   x1  x2   x3\n",
    "    r = np.array([\n",
    "                  [1  , 0.5, 0.4, 0.2],     # y\n",
    "                  [0.5, 1  , i  , 0.2],     # x1   # Note:  (3, 2)th element is i -> iterative for loop\n",
    "                  [0.4, i  , 1  , 0.1],     # x2   # Note:  (2, 3)th element is i -> iterative for loop\n",
    "                  [0.2, 0.2, 0.1,  1 ]      # x3\n",
    "                  ]) \n",
    "    \n",
    "    linalg = np.linalg\n",
    "    L = linalg.cholesky(r)\n",
    "    uncorrelated = np.random.standard_normal((num_variables, num_samples))\n",
    "    correlated = np.dot(L, uncorrelated) + np.array(mu).reshape(4, 1)\n",
    "    data = pd.DataFrame(correlated).T\n",
    "    data.columns = ['Y', 'B1', 'B2', 'B3']\n",
    "    model = ols('Y ~ B1 + B2 + B3', data).fit()\n",
    "    params = model.params\n",
    "    parameters.append(params)\n",
    "    \n",
    "    #se = model.bse\n",
    "    #variance.append(se)\n",
    "    \n",
    "    t_statistics = model.tvalues\n",
    "    t_values.append(t_statistics)\n",
    "    \n",
    "    n = model.nobs\n",
    "    k = model.df_model\n",
    "    R_squared = model.rsquared\n",
    "    R_squared_B1 = ols('B1 ~ B2 + B3', data).fit().rsquared\n",
    "    R_squared_B2 = ols('B2 ~ B1 + B3', data).fit().rsquared\n",
    "    squared_deviations_Y = (data['Y'] - np.mean(data['Y']))**2\n",
    "    squared_deviations_B1 = (data['B1'] - np.mean(data['B1']))**2\n",
    "    squared_deviations_B2 = (data['B2'] - np.mean(data['B2']))**2\n",
    "\n",
    "    # FOR BETA 1\n",
    "    variance_B1 = 1 / (n - k - 1) * (1 - R_squared) / (1 - R_squared_B1) * np.sum(squared_deviations_Y) / np.sum(squared_deviations_B1)\n",
    "\n",
    "    # FOR BETA 2\n",
    "    variance_B2 = 1 / (n - k - 1) * (1 - R_squared) / (1 - R_squared_B2) * np.sum(squared_deviations_Y) / np.sum(squared_deviations_B2)\n",
    "    #print(f\"variance estimator 1 : {variance_B1} \\n variance estimator 2 : {variance_B2}\")\n",
    "\n",
    "    variance_coefficients = pd.Series([variance_B1, variance_B1], index = ['B1', 'B2'])\n",
    "    variance.append(variance_coefficients)\n",
    "    \n"
   ]
  },
  {
   "cell_type": "code",
   "execution_count": 255,
   "metadata": {},
   "outputs": [
    {
     "data": {
      "text/plain": [
       "<matplotlib.legend.Legend at 0x20ced0c4640>"
      ]
     },
     "execution_count": 255,
     "metadata": {},
     "output_type": "execute_result"
    },
    {
     "data": {
      "image/png": "[encoded data removed]",
      "text/plain": [
       "<Figure size 432x288 with 1 Axes>"
      ]
     },
     "metadata": {
      "needs_background": "light"
     },
     "output_type": "display_data"
    }
   ],
   "source": [
    "parameters = pd.DataFrame(parameters)\n",
    "parameters['r'] = numbers\n",
    "parameters\n",
    "\n",
    "plt.plot(parameters['r'], parameters['B1'], label = \"Estimator 1\", color = \"blue\")\n",
    "plt.plot(parameters['r'], parameters['B2'], label = \"Estimator 2\", color = \"red\")\n",
    "plt.xlabel(\"correlation coefficient\")\n",
    "plt.ylabel(\"Parameter estimate\")\n",
    "plt.legend()"
   ]
  },
  {
   "cell_type": "code",
   "execution_count": 256,
   "metadata": {},
   "outputs": [
    {
     "data": {
      "text/plain": [
       "<matplotlib.legend.Legend at 0x20ced133280>"
      ]
     },
     "execution_count": 256,
     "metadata": {},
     "output_type": "execute_result"
    },
    {
     "data": {
      "image/png": "[encoded data removed]",
      "text/plain": [
       "<Figure size 432x288 with 1 Axes>"
      ]
     },
     "metadata": {
      "needs_background": "light"
     },
     "output_type": "display_data"
    }
   ],
   "source": [
    "variance = pd.DataFrame(variance)\n",
    "variance['r'] = numbers\n",
    "variance\n",
    "\n",
    "plt.plot(variance['r'], variance['B1'], label = \"Estimator 1\", color = \"blue\")\n",
    "plt.plot(variance['r'], variance['B2'] +0.01 , label = \"Estimator 2\", color = \"red\")\n",
    "plt.xlabel(\"correlation coefficient\")\n",
    "plt.ylabel(\"Variance\")\n",
    "plt.legend()"
   ]
  },
  {
   "cell_type": "code",
   "execution_count": 257,
   "metadata": {},
   "outputs": [
    {
     "data": {
      "text/plain": [
       "<matplotlib.legend.Legend at 0x20ced183670>"
      ]
     },
     "execution_count": 257,
     "metadata": {},
     "output_type": "execute_result"
    },
    {
     "data": {
      "image/png": "[encoded data removed]",
      "text/plain": [
       "<Figure size 432x288 with 1 Axes>"
      ]
     },
     "metadata": {
      "needs_background": "light"
     },
     "output_type": "display_data"
    }
   ],
   "source": [
    "t_values = pd.DataFrame(t_values)\n",
    "t_values['r'] = numbers\n",
    "t_values\n",
    "\n",
    "plt.plot(t_values['r'], t_values['B1'], label = \"Estimator 1\", color = \"blue\")\n",
    "plt.plot(t_values['r'], t_values['B2'], label = \"Estimator 2\", color = \"red\")\n",
    "plt.plot([0, 1], [4.541, 4.541], linestyle='dotted', color = \"black\", label = \"t0.01\")\n",
    "plt.xlabel(\"correlation coefficient\")\n",
    "plt.ylabel(\"t-statistic\")\n",
    "plt.legend()\n"
   ]
  },
  {
   "cell_type": "code",
   "execution_count": 206,
   "metadata": {},
   "outputs": [],
   "source": [
    "np.random.seed(123)\n",
    "num_samples = 60\n",
    "num_variables = 3\n",
    "mu = np.array([0, 0, 0])\n",
    "# correlation matrix indicating same correlation between beta 1 and beta 2\n",
    "# y = x1 + x2 + e\n",
    "#              y   x1  x2\n",
    "r = np.array([[1, 0.5, 0.7], # y\n",
    "              [0.5, 1, 0.5],  # x1   # Note:  (3, 2)th element is i -> iterative for loop\n",
    "              [0.7, 0.5, 1]]) # x2   # Note:  (2, 3)th element is i -> iterative for loop\n",
    "linalg = np.linalg\n",
    "L = linalg.cholesky(r)\n",
    "uncorrelated = np.random.standard_normal((num_variables, num_samples))\n",
    "correlated = np.dot(L, uncorrelated) + np.array(mu).reshape(3, 1)\n",
    "data = pd.DataFrame(correlated).T\n",
    "data.columns = ['Y', 'B1', 'B2']\n",
    "model = ols('Y ~ B1 + B2', data).fit()\n",
    "params = model.params"
   ]
  },
  {
   "cell_type": "code",
   "execution_count": null,
   "metadata": {},
   "outputs": [
    {
     "name": "stdout",
     "output_type": "stream",
     "text": [
      "variance estimator 1 : 0.010038339725102957 \n",
      " variance estimator 2 : 0.012395133579443504\n"
     ]
    }
   ],
   "source": [
    "n = model.nobs\n",
    "k = model.df_model\n",
    "R_squared = model.rsquared\n",
    "R_squared_B1 = ols('B1 ~ B2', data).fit().rsquared\n",
    "R_squared_B2 = ols('B2 ~ B1', data).fit().rsquared\n",
    "squared_deviations_Y = (data['Y'] - np.mean(data['Y']))**2\n",
    "squared_deviations_B1 = (data['B1'] - np.mean(data['B1']))**2\n",
    "squared_deviations_B2 = (data['B2'] - np.mean(data['B2']))**2\n",
    "\n",
    "# FOR BETA 1\n",
    "variance_B1 = 1 / (n - k - 1) * (1 - R_squared) / (1 - R_squared_B1) * np.sum(squared_deviations_Y) / np.sum(squared_deviations_B1)\n",
    "\n",
    "# FOR BETA 2\n",
    "variance_B2 = 1 / (n - k - 1) * (1 - R_squared) / (1 - R_squared_B2) * np.sum(squared_deviations_Y) / np.sum(squared_deviations_B2)\n",
    "print(f\"variance estimator 1 : {variance_B1} \\n variance estimator 2 : {variance_B2}\")\n",
    "\n",
    "variance_coefficients = pd.Series([variance_B1, variance_B1], index = ['B1', 'B2'])"
   ]
  },
  {
   "cell_type": "code",
   "execution_count": null,
   "metadata": {},
   "outputs": [],
   "source": []
  },
  {
   "cell_type": "code",
   "execution_count": null,
   "metadata": {},
   "outputs": [
    {
     "data": {
      "text/plain": [
       "Index(['Intercept', 'B1', 'B2'], dtype='object')"
      ]
     },
     "execution_count": 106,
     "metadata": {},
     "output_type": "execute_result"
    }
   ],
   "source": []
  },
  {
   "cell_type": "code",
   "execution_count": null,
   "metadata": {},
   "outputs": [],
   "source": []
  }
 ],
 "metadata": {
  "interpreter": {
   "hash": "c7c38c2cfa7ff7bd9eb82d87a278c046f8ffccc02563f8936736311adf318509"
  },
  "kernelspec": {
   "display_name": "Python 3",
   "language": "python",
   "name": "python3"
  },
  "language_info": {
   "codemirror_mode": {
    "name": "ipython",
    "version": 3
   },
   "file_extension": ".py",
   "mimetype": "text/x-python",
   "name": "python",
   "nbconvert_exporter": "python",
   "pygments_lexer": "ipython3",
   "version": "3.8.8"
  }
 },
 "nbformat": 4,
 "nbformat_minor": 2
}
